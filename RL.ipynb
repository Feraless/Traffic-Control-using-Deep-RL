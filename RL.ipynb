{
 "cells": [
  {
   "metadata": {},
   "cell_type": "markdown",
   "source": "**Importing Dependencies**",
   "id": "2d6c6882bb01444"
  },
  {
   "metadata": {},
   "cell_type": "code",
   "outputs": [
    {
     "name": "stdout",
     "output_type": "stream",
     "text": [
      "pygame 2.6.0 (SDL 2.28.4, Python 3.7.1)\n",
      "Hello from the pygame community. https://www.pygame.org/contribute.html\n"
     ]
    }
   ],
   "execution_count": 1,
   "source": [
    "import gym\n",
    "import numpy as np\n",
    "import threading\n",
    "from Traffic import TrafficEnv\n",
    "from stable_baselines3 import PPO\n",
    "from stable_baselines3.common.vec_env import DummyVecEnv\n",
    "from stable_baselines3.common.env_checker import check_env\n",
    "from stable_baselines3.common.callbacks import EvalCallback"
   ],
   "id": "ab6b5348a59d6b5e"
  },
  {
   "metadata": {},
   "cell_type": "markdown",
   "source": "**Instantiating the Custom Traffic Environment**",
   "id": "1f5da9fdbd806d15"
  },
  {
   "metadata": {
    "ExecuteTime": {
     "end_time": "2024-07-24T04:49:32.408339Z",
     "start_time": "2024-07-24T04:49:32.392711Z"
    }
   },
   "cell_type": "code",
   "source": "env = TrafficEnv()",
   "id": "39f2e175b9947f10",
   "outputs": [],
   "execution_count": 2
  },
  {
   "metadata": {},
   "cell_type": "markdown",
   "source": "**Defining PPO Model**",
   "id": "a1fccf499ffe489a"
  },
  {
   "metadata": {
    "ExecuteTime": {
     "end_time": "2024-07-24T04:49:32.632816Z",
     "start_time": "2024-07-24T04:49:32.408339Z"
    }
   },
   "cell_type": "code",
   "source": "model = PPO('MlpPolicy', env, verbose=1,learning_rate= 0.0001, gamma=0.95,seed=42,batch_size = 64,n_epochs = 15,gae_lambda = 0.95,clip_range = 0.2,normalize_advantage = True,vf_coef = 0.5,max_grad_norm = 0.5,use_sde = False,sde_sample_freq = -1)",
   "id": "3ec2ab6f93acb1b",
   "outputs": [
    {
     "name": "stdout",
     "output_type": "stream",
     "text": [
      "Using cuda device\n",
      "Wrapping the env with a `Monitor` wrapper\n",
      "Wrapping the env in a DummyVecEnv.\n"
     ]
    }
   ],
   "execution_count": 3
  },
  {
   "metadata": {},
   "cell_type": "markdown",
   "source": "**Creating Callbacks**",
   "id": "ed69a1d6e5edefe0"
  },
  {
   "metadata": {},
   "cell_type": "code",
   "outputs": [],
   "execution_count": null,
   "source": [
    "eval_callback = EvalCallback(env, best_model_save_path=\"./logs/\",\n",
    "                             log_path=\"./logs/\", eval_freq=500,\n",
    "                             deterministic=True, render=False)"
   ],
   "id": "b0ecd70edcdfd884"
  },
  {
   "metadata": {},
   "cell_type": "markdown",
   "source": "**Training Model**",
   "id": "70cc973803e05cbc"
  },
  {
   "metadata": {},
   "cell_type": "code",
   "source": "model.learn(total_timesteps=100000,callback=eval_callback)",
   "id": "c809f5b0f01ecf7d",
   "outputs": [],
   "execution_count": null
  },
  {
   "metadata": {},
   "cell_type": "markdown",
   "source": "**Testing Agent Performance**",
   "id": "41ded1abe4427af3"
  },
  {
   "metadata": {
    "ExecuteTime": {
     "end_time": "2024-07-24T04:53:22.804035Z",
     "start_time": "2024-07-24T04:52:08.905370Z"
    }
   },
   "cell_type": "code",
   "source": [
    "done = True\n",
    "for i in range(2):\n",
    "    if done:\n",
    "        state = env.reset()\n",
    "    action,_ = model.predict(state)\n",
    "    state, reward, done, info = env.step(action)\n",
    "    print(reward)\n",
    "env.close()"
   ],
   "id": "2772c6a12681c178",
   "outputs": [
    {
     "name": "stdout",
     "output_type": "stream",
     "text": [
      "Generating vehicle: Type car, Lane 2, Direction right\n",
      "Generating vehicle: Type truck, Lane 2, Direction right\n",
      "Generating vehicle: Type bus, Lane 0, Direction down\n",
      "Generating vehicle: Type bike, Lane 1, Direction left\n",
      "Generating vehicle: Type bus, Lane 2, Direction up\n",
      "Generating vehicle: Type bus, Lane 2, Direction up\n",
      "Generating vehicle: Type truck, Lane 0, Direction up\n",
      "Generating vehicle: Type car, Lane 0, Direction right\n",
      "Generating vehicle: Type truck, Lane 0, Direction down\n",
      "Generating vehicle: Type truck, Lane 0, Direction right\n",
      "Generating vehicle: Type bus, Lane 2, Direction up\n",
      "Generating vehicle: Type car, Lane 1, Direction down\n",
      "Generating vehicle: Type bus, Lane 1, Direction up\n",
      "Generating vehicle: Type bike, Lane 1, Direction down\n",
      "Generating vehicle: Type truck, Lane 0, Direction right\n",
      "Generating vehicle: Type bike, Lane 1, Direction down\n",
      "Generating vehicle: Type car, Lane 1, Direction up\n",
      "Generating vehicle: Type truck, Lane 0, Direction up\n",
      "Generating vehicle: Type truck, Lane 2, Direction up\n",
      "Generating vehicle: Type car, Lane 0, Direction left\n",
      "Generating vehicle: Type bike, Lane 1, Direction right\n",
      "Generating vehicle: Type truck, Lane 2, Direction down\n",
      "Generating vehicle: Type truck, Lane 1, Direction left\n",
      "Generating vehicle: Type truck, Lane 0, Direction left\n",
      "Generating vehicle: Type bike, Lane 2, Direction up\n",
      "Generating vehicle: Type car, Lane 1, Direction down\n",
      "Generating vehicle: Type car, Lane 0, Direction down\n",
      "Generating vehicle: Type car, Lane 2, Direction left\n",
      "Generating vehicle: Type truck, Lane 2, Direction up\n",
      "Generating vehicle: Type car, Lane 1, Direction left\n",
      "Generating vehicle: Type bike, Lane 1, Direction down\n",
      "Generating vehicle: Type bus, Lane 2, Direction right\n",
      "Generating vehicle: Type truck, Lane 2, Direction up\n",
      "Generating vehicle: Type bike, Lane 1, Direction down\n",
      "Generating vehicle: Type car, Lane 1, Direction up\n",
      "Generating vehicle: Type car, Lane 2, Direction up\n",
      "Generating vehicle: Type car, Lane 0, Direction left\n",
      "Generating vehicle: Type car, Lane 2, Direction up\n",
      "Generating vehicle: Type bike, Lane 2, Direction right\n",
      "Generating vehicle: Type bike, Lane 1, Direction right\n",
      "Generating vehicle: Type truck, Lane 1, Direction left\n",
      "Generating vehicle: Type bus, Lane 2, Direction down\n",
      "Generating vehicle: Type bus, Lane 2, Direction up\n",
      "Generating vehicle: Type car, Lane 2, Direction down\n",
      "Generating vehicle: Type truck, Lane 0, Direction left\n",
      "Generating vehicle: Type truck, Lane 0, Direction up\n",
      "Generating vehicle: Type car, Lane 1, Direction right\n",
      "Generating vehicle: Type car, Lane 2, Direction left\n",
      "Generating vehicle: Type bike, Lane 0, Direction left\n",
      "Generating vehicle: Type bus, Lane 0, Direction up\n",
      "Generating vehicle: Type car, Lane 0, Direction right\n",
      "Generating vehicle: Type bike, Lane 2, Direction right\n",
      "Generating vehicle: Type truck, Lane 2, Direction up\n",
      "Generating vehicle: Type bus, Lane 0, Direction up\n",
      "Generating vehicle: Type bike, Lane 0, Direction left\n",
      "Generating vehicle: Type truck, Lane 0, Direction up\n",
      "Generating vehicle: Type bike, Lane 0, Direction up\n",
      "Generating vehicle: Type truck, Lane 0, Direction right\n",
      "Generating vehicle: Type bike, Lane 2, Direction down\n",
      "Generating vehicle: Type bike, Lane 0, Direction down\n",
      "Generating vehicle: Type bus, Lane 1, Direction left\n",
      "Generating vehicle: Type car, Lane 2, Direction left\n",
      "Generating vehicle: Type bus, Lane 0, Direction left\n",
      "Generating vehicle: Type truck, Lane 0, Direction left\n",
      "Generating vehicle: Type bus, Lane 1, Direction down\n",
      "Generating vehicle: Type bike, Lane 2, Direction right\n",
      "Generating vehicle: Type bus, Lane 1, Direction right\n",
      "Generating vehicle: Type bus, Lane 1, Direction up\n",
      "Generating vehicle: Type bike, Lane 0, Direction left\n",
      "Generating vehicle: Type bike, Lane 0, Direction up\n",
      "Generating vehicle: Type truck, Lane 2, Direction up\n",
      "Generating vehicle: Type bus, Lane 1, Direction down\n",
      "Generating vehicle: Type car, Lane 2, Direction rightGenerating vehicle: Type bike, Lane 0, Direction right\n",
      "\n",
      "Generating vehicle: Type truck, Lane 1, Direction upGenerating vehicle: Type car, Lane 0, Direction left\n",
      "\n",
      "Generating vehicle: Type bus, Lane 2, Direction leftGenerating vehicle: Type bike, Lane 1, Direction up\n",
      "\n",
      "Generating vehicle: Type car, Lane 0, Direction right\n",
      "Generating vehicle: Type bus, Lane 0, Direction right\n",
      "Generating vehicle: Type car, Lane 2, Direction leftGenerating vehicle: Type bus, Lane 0, Direction right\n",
      "\n",
      "Generating vehicle: Type bus, Lane 0, Direction up\n",
      "Generating vehicle: Type bike, Lane 0, Direction right\n",
      "-31\n",
      "Generating vehicle: Type car, Lane 1, Direction up\n",
      "Generating vehicle: Type bus, Lane 2, Direction up\n",
      "Generating vehicle: Type car, Lane 2, Direction right\n",
      "Generating vehicle: Type car, Lane 0, Direction up\n",
      "Generating vehicle: Type car, Lane 1, Direction downGenerating vehicle: Type car, Lane 0, Direction down\n",
      "\n",
      "Generating vehicle: Type bike, Lane 1, Direction up\n",
      "Generating vehicle: Type bike, Lane 0, Direction upGenerating vehicle: Type bike, Lane 0, Direction left\n",
      "\n",
      "Generating vehicle: Type truck, Lane 0, Direction down\n",
      "Generating vehicle: Type bike, Lane 1, Direction right\n",
      "Generating vehicle: Type car, Lane 0, Direction up\n",
      "Generating vehicle: Type bike, Lane 2, Direction down\n",
      "Generating vehicle: Type bus, Lane 2, Direction rightGenerating vehicle: Type bike, Lane 0, Direction down\n",
      "\n",
      "Generating vehicle: Type bus, Lane 1, Direction right\n",
      "Generating vehicle: Type bike, Lane 1, Direction upGenerating vehicle: Type bus, Lane 0, Direction up\n",
      "\n",
      "Generating vehicle: Type bike, Lane 0, Direction up\n",
      "Generating vehicle: Type car, Lane 0, Direction rightGenerating vehicle: Type bike, Lane 0, Direction up\n",
      "\n",
      "Generating vehicle: Type car, Lane 1, Direction down\n",
      "Generating vehicle: Type car, Lane 1, Direction down\n",
      "Generating vehicle: Type truck, Lane 0, Direction up\n",
      "Generating vehicle: Type truck, Lane 0, Direction right\n",
      "Generating vehicle: Type bike, Lane 0, Direction down\n",
      "Generating vehicle: Type bike, Lane 1, Direction up\n",
      "Generating vehicle: Type bike, Lane 0, Direction left\n",
      "Generating vehicle: Type bike, Lane 1, Direction rightGenerating vehicle: Type truck, Lane 2, Direction right\n",
      "\n",
      "Generating vehicle: Type bike, Lane 2, Direction right\n",
      "Generating vehicle: Type bus, Lane 1, Direction rightGenerating vehicle: Type truck, Lane 0, Direction down\n",
      "\n",
      "Generating vehicle: Type bike, Lane 1, Direction down\n",
      "Generating vehicle: Type truck, Lane 0, Direction downGenerating vehicle: Type bike, Lane 1, Direction left\n",
      "\n",
      "Generating vehicle: Type truck, Lane 1, Direction up\n",
      "Generating vehicle: Type bus, Lane 1, Direction up\n",
      "Generating vehicle: Type bus, Lane 2, Direction up\n",
      "Generating vehicle: Type bike, Lane 0, Direction down\n",
      "Generating vehicle: Type car, Lane 1, Direction up\n",
      "Generating vehicle: Type bus, Lane 1, Direction down\n",
      "Generating vehicle: Type bike, Lane 0, Direction up\n",
      "Generating vehicle: Type bus, Lane 2, Direction upGenerating vehicle: Type bus, Lane 2, Direction left\n",
      "\n",
      "Generating vehicle: Type car, Lane 2, Direction right\n",
      "Generating vehicle: Type truck, Lane 2, Direction up\n",
      "Generating vehicle: Type bike, Lane 1, Direction left\n",
      "Generating vehicle: Type bike, Lane 0, Direction down\n",
      "Generating vehicle: Type bike, Lane 1, Direction down\n",
      "Generating vehicle: Type truck, Lane 0, Direction up\n",
      "Generating vehicle: Type bike, Lane 0, Direction left\n",
      "Generating vehicle: Type truck, Lane 2, Direction down\n",
      "Generating vehicle: Type bus, Lane 1, Direction right\n",
      "Generating vehicle: Type truck, Lane 0, Direction down\n",
      "Generating vehicle: Type car, Lane 2, Direction up\n",
      "Generating vehicle: Type bike, Lane 1, Direction left\n",
      "Generating vehicle: Type car, Lane 2, Direction right\n",
      "Generating vehicle: Type car, Lane 1, Direction down\n",
      "Generating vehicle: Type car, Lane 2, Direction left\n",
      "Generating vehicle: Type truck, Lane 2, Direction right\n",
      "Generating vehicle: Type car, Lane 0, Direction up\n",
      "Generating vehicle: Type bike, Lane 2, Direction up\n",
      "Generating vehicle: Type car, Lane 0, Direction left\n",
      "Generating vehicle: Type bike, Lane 2, Direction right\n",
      "Generating vehicle: Type bike, Lane 1, Direction down\n",
      "Generating vehicle: Type bus, Lane 2, Direction left\n",
      "Generating vehicle: Type bike, Lane 0, Direction upGenerating vehicle: Type truck, Lane 0, Direction up\n",
      "\n",
      "Generating vehicle: Type bike, Lane 2, Direction down\n",
      "Generating vehicle: Type bike, Lane 2, Direction downGenerating vehicle: Type truck, Lane 1, Direction down\n",
      "\n",
      "Generating vehicle: Type bike, Lane 0, Direction down\n",
      "Generating vehicle: Type bike, Lane 0, Direction right\n",
      "Generating vehicle: Type truck, Lane 1, Direction left\n",
      "Generating vehicle: Type bus, Lane 2, Direction right\n",
      "Generating vehicle: Type bus, Lane 0, Direction rightGenerating vehicle: Type truck, Lane 2, Direction up\n",
      "\n",
      "Generating vehicle: Type truck, Lane 1, Direction down\n",
      "Generating vehicle: Type bus, Lane 2, Direction rightGenerating vehicle: Type bike, Lane 1, Direction left\n",
      "\n",
      "Generating vehicle: Type bus, Lane 1, Direction down\n",
      "Generating vehicle: Type truck, Lane 2, Direction left\n",
      "Generating vehicle: Type bike, Lane 2, Direction up\n",
      "Generating vehicle: Type bus, Lane 1, Direction right\n",
      "Generating vehicle: Type car, Lane 1, Direction left\n",
      "Generating vehicle: Type bus, Lane 0, Direction down\n",
      "Generating vehicle: Type bike, Lane 0, Direction left\n",
      "Generating vehicle: Type bike, Lane 1, Direction up\n",
      "Generating vehicle: Type truck, Lane 2, Direction left\n",
      "Generating vehicle: Type bus, Lane 2, Direction up\n",
      "Generating vehicle: Type car, Lane 0, Direction down\n",
      "Generating vehicle: Type truck, Lane 0, Direction up\n",
      "-28\n"
     ]
    }
   ],
   "execution_count": 10
  },
  {
   "metadata": {},
   "cell_type": "code",
   "source": "env.close()",
   "id": "129efad0fd8224e0",
   "outputs": [],
   "execution_count": null
  },
  {
   "metadata": {},
   "cell_type": "markdown",
   "source": "**Saving Model**",
   "id": "df6e1c9b80242620"
  },
  {
   "metadata": {
    "ExecuteTime": {
     "end_time": "2024-07-24T04:49:52.531662Z",
     "start_time": "2024-07-24T04:49:52.516159Z"
    }
   },
   "cell_type": "code",
   "source": "import os ",
   "id": "1781d0dde0020935",
   "outputs": [],
   "execution_count": 5
  },
  {
   "metadata": {
    "ExecuteTime": {
     "end_time": "2024-07-24T04:49:52.768730Z",
     "start_time": "2024-07-24T04:49:52.737479Z"
    }
   },
   "cell_type": "code",
   "source": [
    "# Define paths\n",
    "model_save_directory = \"models/rl_model\"\n",
    "model_save_path = os.path.join(model_save_directory, \"model\")"
   ],
   "id": "63a509790908b102",
   "outputs": [],
   "execution_count": 6
  },
  {
   "metadata": {
    "ExecuteTime": {
     "end_time": "2024-07-24T04:49:59.904299Z",
     "start_time": "2024-07-24T04:49:57.742059Z"
    }
   },
   "cell_type": "code",
   "source": [
    "# Save the model\n",
    "model.save(model_save_path)\n"
   ],
   "id": "fe8e491908ee9580",
   "outputs": [
    {
     "data": {
      "text/plain": [
       "<stable_baselines3.ppo.ppo.PPO at 0x2058be60ac8>"
      ]
     },
     "execution_count": 7,
     "metadata": {},
     "output_type": "execute_result"
    }
   ],
   "execution_count": 7
  }
 ],
 "metadata": {
  "kernelspec": {
   "display_name": "Python 3",
   "language": "python",
   "name": "python3"
  },
  "language_info": {
   "codemirror_mode": {
    "name": "ipython",
    "version": 2
   },
   "file_extension": ".py",
   "mimetype": "text/x-python",
   "name": "python",
   "nbconvert_exporter": "python",
   "pygments_lexer": "ipython2",
   "version": "2.7.6"
  }
 },
 "nbformat": 4,
 "nbformat_minor": 5
}
